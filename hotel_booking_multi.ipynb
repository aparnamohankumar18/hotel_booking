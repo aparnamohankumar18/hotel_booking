{
  "cells": [
    {
      "cell_type": "markdown",
      "metadata": {
        "id": "view-in-github",
        "colab_type": "text"
      },
      "source": [
        "<a href=\"https://colab.research.google.com/github/aparnamohankumar18/hotel_booking/blob/main/hotel_booking_multi.ipynb\" target=\"_parent\"><img src=\"https://colab.research.google.com/assets/colab-badge.svg\" alt=\"Open In Colab\"/></a>"
      ]
    },
    {
      "cell_type": "markdown",
      "source": [
        "## Import Necessary Libraries"
      ],
      "metadata": {
        "id": "vN5j5mUjNiH2"
      }
    },
    {
      "cell_type": "code",
      "execution_count": 1,
      "metadata": {
        "id": "0W3Z4YzUlxPt"
      },
      "outputs": [],
      "source": [
        "import warnings\n",
        "warnings.filterwarnings(\"ignore\")\n",
        "\n",
        "# Libraries to help with reading and manipulating data\n",
        "import pandas as pd\n",
        "import numpy as np\n",
        "import scipy as sp"
      ]
    },
    {
      "cell_type": "code",
      "execution_count": 2,
      "metadata": {
        "id": "EWT3ampel-1h"
      },
      "outputs": [],
      "source": [
        "# Libaries to help with data visualization\n",
        "%matplotlib inline\n",
        "import matplotlib.pyplot as plt\n",
        "import seaborn as sns\n",
        "import time"
      ]
    },
    {
      "cell_type": "code",
      "execution_count": 3,
      "metadata": {
        "id": "klpbsxxGmEgl"
      },
      "outputs": [],
      "source": [
        "# Libraries to tune model, get different metric scores, and split data\n",
        "from sklearn import metrics\n",
        "from sklearn.model_selection import train_test_split, StratifiedKFold, cross_val_score\n",
        "from sklearn.preprocessing import StandardScaler\n",
        "from sklearn.model_selection import GridSearchCV, RandomizedSearchCV\n",
        "\n",
        "from sklearn.impute import KNNImputer, SimpleImputer\n",
        "from sklearn.pipeline import Pipeline, make_pipeline\n"
      ]
    },
    {
      "cell_type": "code",
      "source": [
        "# Libraries to help with model building\n",
        "from sklearn.linear_model import LogisticRegression\n",
        "from sklearn.tree import DecisionTreeClassifier\n",
        "from sklearn.ensemble import (\n",
        "    AdaBoostClassifier,\n",
        "    GradientBoostingClassifier,\n",
        "    BaggingClassifier,\n",
        "    RandomForestClassifier)\n",
        "from xgboost import XGBClassifier\n",
        "\n",
        "from sklearn import metrics\n",
        "from sklearn.metrics import confusion_matrix, recall_score, precision_score, f1_score, roc_auc_score"
      ],
      "metadata": {
        "id": "lQEeGKqoNrzE"
      },
      "execution_count": 4,
      "outputs": []
    },
    {
      "cell_type": "markdown",
      "metadata": {
        "id": "tvP-6K8CmI52"
      },
      "source": [
        "## Load source dataset"
      ]
    },
    {
      "cell_type": "code",
      "execution_count": 5,
      "metadata": {
        "id": "FSGthTndmFu-"
      },
      "outputs": [],
      "source": [
        "url = 'https://raw.githubusercontent.com/aparnamohankumar18/hotel_booking/main/hotel_bookings_raw.csv'\n",
        "hotelBook = pd.read_csv(url)"
      ]
    },
    {
      "cell_type": "code",
      "execution_count": 6,
      "metadata": {
        "colab": {
          "base_uri": "https://localhost:8080/",
          "height": 342
        },
        "id": "rioUTliDmSNM",
        "outputId": "3195f7bf-8abe-43c6-8a59-414b75768432"
      },
      "outputs": [
        {
          "output_type": "execute_result",
          "data": {
            "text/plain": [
              "          hotel  is_canceled  lead_time  arrival_date_year arrival_date_month  \\\n",
              "0  Resort Hotel            0        342               2015               July   \n",
              "1  Resort Hotel            0        737               2015               July   \n",
              "2  Resort Hotel            0          7               2015               July   \n",
              "3  Resort Hotel            0         13               2015               July   \n",
              "4  Resort Hotel            0         14               2015               July   \n",
              "\n",
              "   arrival_date_week_number  arrival_date_day_of_month  \\\n",
              "0                        27                          1   \n",
              "1                        27                          1   \n",
              "2                        27                          1   \n",
              "3                        27                          1   \n",
              "4                        27                          1   \n",
              "\n",
              "   stays_in_weekend_nights  stays_in_week_nights  adults  ...  INFLATION  \\\n",
              "0                        0                     0       2  ...        1.8   \n",
              "1                        0                     0       2  ...        1.8   \n",
              "2                        0                     1       1  ...        1.8   \n",
              "3                        0                     1       1  ...        1.8   \n",
              "4                        0                     2       2  ...        1.8   \n",
              "\n",
              "   INFLATION_CHG CSMR_SENT UNRATE INTRSRT       GDP  FUEL_PRCS  CPI_HOTELS  \\\n",
              "0            0.0      93.1    5.3    0.75  18306.96      194.0    0.187566   \n",
              "1            0.0      93.1    5.3    0.75  18306.96      194.0    0.187566   \n",
              "2            0.0      93.1    5.3    0.75  18306.96      194.0    0.187566   \n",
              "3            0.0      93.1    5.3    0.75  18306.96      194.0    0.187566   \n",
              "4            0.0      93.1    5.3    0.75  18306.96      194.0    0.187566   \n",
              "\n",
              "   US_GINI  DIS_INC  \n",
              "0     41.2  41355.0  \n",
              "1     41.2  41355.0  \n",
              "2     41.2  41355.0  \n",
              "3     41.2  41355.0  \n",
              "4     41.2  41355.0  \n",
              "\n",
              "[5 rows x 43 columns]"
            ],
            "text/html": [
              "\n",
              "  <div id=\"df-2b8cbf93-ee22-4d80-adae-1a4ad167ac74\" class=\"colab-df-container\">\n",
              "    <div>\n",
              "<style scoped>\n",
              "    .dataframe tbody tr th:only-of-type {\n",
              "        vertical-align: middle;\n",
              "    }\n",
              "\n",
              "    .dataframe tbody tr th {\n",
              "        vertical-align: top;\n",
              "    }\n",
              "\n",
              "    .dataframe thead th {\n",
              "        text-align: right;\n",
              "    }\n",
              "</style>\n",
              "<table border=\"1\" class=\"dataframe\">\n",
              "  <thead>\n",
              "    <tr style=\"text-align: right;\">\n",
              "      <th></th>\n",
              "      <th>hotel</th>\n",
              "      <th>is_canceled</th>\n",
              "      <th>lead_time</th>\n",
              "      <th>arrival_date_year</th>\n",
              "      <th>arrival_date_month</th>\n",
              "      <th>arrival_date_week_number</th>\n",
              "      <th>arrival_date_day_of_month</th>\n",
              "      <th>stays_in_weekend_nights</th>\n",
              "      <th>stays_in_week_nights</th>\n",
              "      <th>adults</th>\n",
              "      <th>...</th>\n",
              "      <th>INFLATION</th>\n",
              "      <th>INFLATION_CHG</th>\n",
              "      <th>CSMR_SENT</th>\n",
              "      <th>UNRATE</th>\n",
              "      <th>INTRSRT</th>\n",
              "      <th>GDP</th>\n",
              "      <th>FUEL_PRCS</th>\n",
              "      <th>CPI_HOTELS</th>\n",
              "      <th>US_GINI</th>\n",
              "      <th>DIS_INC</th>\n",
              "    </tr>\n",
              "  </thead>\n",
              "  <tbody>\n",
              "    <tr>\n",
              "      <th>0</th>\n",
              "      <td>Resort Hotel</td>\n",
              "      <td>0</td>\n",
              "      <td>342</td>\n",
              "      <td>2015</td>\n",
              "      <td>July</td>\n",
              "      <td>27</td>\n",
              "      <td>1</td>\n",
              "      <td>0</td>\n",
              "      <td>0</td>\n",
              "      <td>2</td>\n",
              "      <td>...</td>\n",
              "      <td>1.8</td>\n",
              "      <td>0.0</td>\n",
              "      <td>93.1</td>\n",
              "      <td>5.3</td>\n",
              "      <td>0.75</td>\n",
              "      <td>18306.96</td>\n",
              "      <td>194.0</td>\n",
              "      <td>0.187566</td>\n",
              "      <td>41.2</td>\n",
              "      <td>41355.0</td>\n",
              "    </tr>\n",
              "    <tr>\n",
              "      <th>1</th>\n",
              "      <td>Resort Hotel</td>\n",
              "      <td>0</td>\n",
              "      <td>737</td>\n",
              "      <td>2015</td>\n",
              "      <td>July</td>\n",
              "      <td>27</td>\n",
              "      <td>1</td>\n",
              "      <td>0</td>\n",
              "      <td>0</td>\n",
              "      <td>2</td>\n",
              "      <td>...</td>\n",
              "      <td>1.8</td>\n",
              "      <td>0.0</td>\n",
              "      <td>93.1</td>\n",
              "      <td>5.3</td>\n",
              "      <td>0.75</td>\n",
              "      <td>18306.96</td>\n",
              "      <td>194.0</td>\n",
              "      <td>0.187566</td>\n",
              "      <td>41.2</td>\n",
              "      <td>41355.0</td>\n",
              "    </tr>\n",
              "    <tr>\n",
              "      <th>2</th>\n",
              "      <td>Resort Hotel</td>\n",
              "      <td>0</td>\n",
              "      <td>7</td>\n",
              "      <td>2015</td>\n",
              "      <td>July</td>\n",
              "      <td>27</td>\n",
              "      <td>1</td>\n",
              "      <td>0</td>\n",
              "      <td>1</td>\n",
              "      <td>1</td>\n",
              "      <td>...</td>\n",
              "      <td>1.8</td>\n",
              "      <td>0.0</td>\n",
              "      <td>93.1</td>\n",
              "      <td>5.3</td>\n",
              "      <td>0.75</td>\n",
              "      <td>18306.96</td>\n",
              "      <td>194.0</td>\n",
              "      <td>0.187566</td>\n",
              "      <td>41.2</td>\n",
              "      <td>41355.0</td>\n",
              "    </tr>\n",
              "    <tr>\n",
              "      <th>3</th>\n",
              "      <td>Resort Hotel</td>\n",
              "      <td>0</td>\n",
              "      <td>13</td>\n",
              "      <td>2015</td>\n",
              "      <td>July</td>\n",
              "      <td>27</td>\n",
              "      <td>1</td>\n",
              "      <td>0</td>\n",
              "      <td>1</td>\n",
              "      <td>1</td>\n",
              "      <td>...</td>\n",
              "      <td>1.8</td>\n",
              "      <td>0.0</td>\n",
              "      <td>93.1</td>\n",
              "      <td>5.3</td>\n",
              "      <td>0.75</td>\n",
              "      <td>18306.96</td>\n",
              "      <td>194.0</td>\n",
              "      <td>0.187566</td>\n",
              "      <td>41.2</td>\n",
              "      <td>41355.0</td>\n",
              "    </tr>\n",
              "    <tr>\n",
              "      <th>4</th>\n",
              "      <td>Resort Hotel</td>\n",
              "      <td>0</td>\n",
              "      <td>14</td>\n",
              "      <td>2015</td>\n",
              "      <td>July</td>\n",
              "      <td>27</td>\n",
              "      <td>1</td>\n",
              "      <td>0</td>\n",
              "      <td>2</td>\n",
              "      <td>2</td>\n",
              "      <td>...</td>\n",
              "      <td>1.8</td>\n",
              "      <td>0.0</td>\n",
              "      <td>93.1</td>\n",
              "      <td>5.3</td>\n",
              "      <td>0.75</td>\n",
              "      <td>18306.96</td>\n",
              "      <td>194.0</td>\n",
              "      <td>0.187566</td>\n",
              "      <td>41.2</td>\n",
              "      <td>41355.0</td>\n",
              "    </tr>\n",
              "  </tbody>\n",
              "</table>\n",
              "<p>5 rows × 43 columns</p>\n",
              "</div>\n",
              "    <div class=\"colab-df-buttons\">\n",
              "\n",
              "  <div class=\"colab-df-container\">\n",
              "    <button class=\"colab-df-convert\" onclick=\"convertToInteractive('df-2b8cbf93-ee22-4d80-adae-1a4ad167ac74')\"\n",
              "            title=\"Convert this dataframe to an interactive table.\"\n",
              "            style=\"display:none;\">\n",
              "\n",
              "  <svg xmlns=\"http://www.w3.org/2000/svg\" height=\"24px\" viewBox=\"0 -960 960 960\">\n",
              "    <path d=\"M120-120v-720h720v720H120Zm60-500h600v-160H180v160Zm220 220h160v-160H400v160Zm0 220h160v-160H400v160ZM180-400h160v-160H180v160Zm440 0h160v-160H620v160ZM180-180h160v-160H180v160Zm440 0h160v-160H620v160Z\"/>\n",
              "  </svg>\n",
              "    </button>\n",
              "\n",
              "  <style>\n",
              "    .colab-df-container {\n",
              "      display:flex;\n",
              "      gap: 12px;\n",
              "    }\n",
              "\n",
              "    .colab-df-convert {\n",
              "      background-color: #E8F0FE;\n",
              "      border: none;\n",
              "      border-radius: 50%;\n",
              "      cursor: pointer;\n",
              "      display: none;\n",
              "      fill: #1967D2;\n",
              "      height: 32px;\n",
              "      padding: 0 0 0 0;\n",
              "      width: 32px;\n",
              "    }\n",
              "\n",
              "    .colab-df-convert:hover {\n",
              "      background-color: #E2EBFA;\n",
              "      box-shadow: 0px 1px 2px rgba(60, 64, 67, 0.3), 0px 1px 3px 1px rgba(60, 64, 67, 0.15);\n",
              "      fill: #174EA6;\n",
              "    }\n",
              "\n",
              "    .colab-df-buttons div {\n",
              "      margin-bottom: 4px;\n",
              "    }\n",
              "\n",
              "    [theme=dark] .colab-df-convert {\n",
              "      background-color: #3B4455;\n",
              "      fill: #D2E3FC;\n",
              "    }\n",
              "\n",
              "    [theme=dark] .colab-df-convert:hover {\n",
              "      background-color: #434B5C;\n",
              "      box-shadow: 0px 1px 3px 1px rgba(0, 0, 0, 0.15);\n",
              "      filter: drop-shadow(0px 1px 2px rgba(0, 0, 0, 0.3));\n",
              "      fill: #FFFFFF;\n",
              "    }\n",
              "  </style>\n",
              "\n",
              "    <script>\n",
              "      const buttonEl =\n",
              "        document.querySelector('#df-2b8cbf93-ee22-4d80-adae-1a4ad167ac74 button.colab-df-convert');\n",
              "      buttonEl.style.display =\n",
              "        google.colab.kernel.accessAllowed ? 'block' : 'none';\n",
              "\n",
              "      async function convertToInteractive(key) {\n",
              "        const element = document.querySelector('#df-2b8cbf93-ee22-4d80-adae-1a4ad167ac74');\n",
              "        const dataTable =\n",
              "          await google.colab.kernel.invokeFunction('convertToInteractive',\n",
              "                                                    [key], {});\n",
              "        if (!dataTable) return;\n",
              "\n",
              "        const docLinkHtml = 'Like what you see? Visit the ' +\n",
              "          '<a target=\"_blank\" href=https://colab.research.google.com/notebooks/data_table.ipynb>data table notebook</a>'\n",
              "          + ' to learn more about interactive tables.';\n",
              "        element.innerHTML = '';\n",
              "        dataTable['output_type'] = 'display_data';\n",
              "        await google.colab.output.renderOutput(dataTable, element);\n",
              "        const docLink = document.createElement('div');\n",
              "        docLink.innerHTML = docLinkHtml;\n",
              "        element.appendChild(docLink);\n",
              "      }\n",
              "    </script>\n",
              "  </div>\n",
              "\n",
              "\n",
              "<div id=\"df-fd27063c-1d91-43cc-9cb6-69dd1eab3b15\">\n",
              "  <button class=\"colab-df-quickchart\" onclick=\"quickchart('df-fd27063c-1d91-43cc-9cb6-69dd1eab3b15')\"\n",
              "            title=\"Suggest charts\"\n",
              "            style=\"display:none;\">\n",
              "\n",
              "<svg xmlns=\"http://www.w3.org/2000/svg\" height=\"24px\"viewBox=\"0 0 24 24\"\n",
              "     width=\"24px\">\n",
              "    <g>\n",
              "        <path d=\"M19 3H5c-1.1 0-2 .9-2 2v14c0 1.1.9 2 2 2h14c1.1 0 2-.9 2-2V5c0-1.1-.9-2-2-2zM9 17H7v-7h2v7zm4 0h-2V7h2v10zm4 0h-2v-4h2v4z\"/>\n",
              "    </g>\n",
              "</svg>\n",
              "  </button>\n",
              "\n",
              "<style>\n",
              "  .colab-df-quickchart {\n",
              "      --bg-color: #E8F0FE;\n",
              "      --fill-color: #1967D2;\n",
              "      --hover-bg-color: #E2EBFA;\n",
              "      --hover-fill-color: #174EA6;\n",
              "      --disabled-fill-color: #AAA;\n",
              "      --disabled-bg-color: #DDD;\n",
              "  }\n",
              "\n",
              "  [theme=dark] .colab-df-quickchart {\n",
              "      --bg-color: #3B4455;\n",
              "      --fill-color: #D2E3FC;\n",
              "      --hover-bg-color: #434B5C;\n",
              "      --hover-fill-color: #FFFFFF;\n",
              "      --disabled-bg-color: #3B4455;\n",
              "      --disabled-fill-color: #666;\n",
              "  }\n",
              "\n",
              "  .colab-df-quickchart {\n",
              "    background-color: var(--bg-color);\n",
              "    border: none;\n",
              "    border-radius: 50%;\n",
              "    cursor: pointer;\n",
              "    display: none;\n",
              "    fill: var(--fill-color);\n",
              "    height: 32px;\n",
              "    padding: 0;\n",
              "    width: 32px;\n",
              "  }\n",
              "\n",
              "  .colab-df-quickchart:hover {\n",
              "    background-color: var(--hover-bg-color);\n",
              "    box-shadow: 0 1px 2px rgba(60, 64, 67, 0.3), 0 1px 3px 1px rgba(60, 64, 67, 0.15);\n",
              "    fill: var(--button-hover-fill-color);\n",
              "  }\n",
              "\n",
              "  .colab-df-quickchart-complete:disabled,\n",
              "  .colab-df-quickchart-complete:disabled:hover {\n",
              "    background-color: var(--disabled-bg-color);\n",
              "    fill: var(--disabled-fill-color);\n",
              "    box-shadow: none;\n",
              "  }\n",
              "\n",
              "  .colab-df-spinner {\n",
              "    border: 2px solid var(--fill-color);\n",
              "    border-color: transparent;\n",
              "    border-bottom-color: var(--fill-color);\n",
              "    animation:\n",
              "      spin 1s steps(1) infinite;\n",
              "  }\n",
              "\n",
              "  @keyframes spin {\n",
              "    0% {\n",
              "      border-color: transparent;\n",
              "      border-bottom-color: var(--fill-color);\n",
              "      border-left-color: var(--fill-color);\n",
              "    }\n",
              "    20% {\n",
              "      border-color: transparent;\n",
              "      border-left-color: var(--fill-color);\n",
              "      border-top-color: var(--fill-color);\n",
              "    }\n",
              "    30% {\n",
              "      border-color: transparent;\n",
              "      border-left-color: var(--fill-color);\n",
              "      border-top-color: var(--fill-color);\n",
              "      border-right-color: var(--fill-color);\n",
              "    }\n",
              "    40% {\n",
              "      border-color: transparent;\n",
              "      border-right-color: var(--fill-color);\n",
              "      border-top-color: var(--fill-color);\n",
              "    }\n",
              "    60% {\n",
              "      border-color: transparent;\n",
              "      border-right-color: var(--fill-color);\n",
              "    }\n",
              "    80% {\n",
              "      border-color: transparent;\n",
              "      border-right-color: var(--fill-color);\n",
              "      border-bottom-color: var(--fill-color);\n",
              "    }\n",
              "    90% {\n",
              "      border-color: transparent;\n",
              "      border-bottom-color: var(--fill-color);\n",
              "    }\n",
              "  }\n",
              "</style>\n",
              "\n",
              "  <script>\n",
              "    async function quickchart(key) {\n",
              "      const quickchartButtonEl =\n",
              "        document.querySelector('#' + key + ' button');\n",
              "      quickchartButtonEl.disabled = true;  // To prevent multiple clicks.\n",
              "      quickchartButtonEl.classList.add('colab-df-spinner');\n",
              "      try {\n",
              "        const charts = await google.colab.kernel.invokeFunction(\n",
              "            'suggestCharts', [key], {});\n",
              "      } catch (error) {\n",
              "        console.error('Error during call to suggestCharts:', error);\n",
              "      }\n",
              "      quickchartButtonEl.classList.remove('colab-df-spinner');\n",
              "      quickchartButtonEl.classList.add('colab-df-quickchart-complete');\n",
              "    }\n",
              "    (() => {\n",
              "      let quickchartButtonEl =\n",
              "        document.querySelector('#df-fd27063c-1d91-43cc-9cb6-69dd1eab3b15 button');\n",
              "      quickchartButtonEl.style.display =\n",
              "        google.colab.kernel.accessAllowed ? 'block' : 'none';\n",
              "    })();\n",
              "  </script>\n",
              "</div>\n",
              "\n",
              "    </div>\n",
              "  </div>\n"
            ]
          },
          "metadata": {},
          "execution_count": 6
        }
      ],
      "source": [
        "hotelBook.head()"
      ]
    },
    {
      "cell_type": "code",
      "execution_count": 7,
      "metadata": {
        "colab": {
          "base_uri": "https://localhost:8080/"
        },
        "id": "p2NXkIhpmUi-",
        "outputId": "026b9ce9-1db8-4e01-e1fb-8e0cc76d7338"
      },
      "outputs": [
        {
          "output_type": "execute_result",
          "data": {
            "text/plain": [
              "(119390, 43)"
            ]
          },
          "metadata": {},
          "execution_count": 7
        }
      ],
      "source": [
        "hotelBook.shape"
      ]
    },
    {
      "cell_type": "code",
      "execution_count": 8,
      "metadata": {
        "colab": {
          "base_uri": "https://localhost:8080/"
        },
        "id": "6ha8wDUbmZex",
        "outputId": "494bce7b-e88d-4087-e1fc-cc89280ce164"
      },
      "outputs": [
        {
          "output_type": "stream",
          "name": "stdout",
          "text": [
            "<class 'pandas.core.frame.DataFrame'>\n",
            "RangeIndex: 119390 entries, 0 to 119389\n",
            "Data columns (total 43 columns):\n",
            " #   Column                          Non-Null Count   Dtype  \n",
            "---  ------                          --------------   -----  \n",
            " 0   hotel                           119390 non-null  object \n",
            " 1   is_canceled                     119390 non-null  int64  \n",
            " 2   lead_time                       119390 non-null  int64  \n",
            " 3   arrival_date_year               119390 non-null  int64  \n",
            " 4   arrival_date_month              119390 non-null  object \n",
            " 5   arrival_date_week_number        119390 non-null  int64  \n",
            " 6   arrival_date_day_of_month       119390 non-null  int64  \n",
            " 7   stays_in_weekend_nights         119390 non-null  int64  \n",
            " 8   stays_in_week_nights            119390 non-null  int64  \n",
            " 9   adults                          119390 non-null  int64  \n",
            " 10  children                        119386 non-null  float64\n",
            " 11  babies                          119390 non-null  int64  \n",
            " 12  meal                            119390 non-null  object \n",
            " 13  country                         118902 non-null  object \n",
            " 14  market_segment                  119390 non-null  object \n",
            " 15  distribution_channel            119390 non-null  object \n",
            " 16  is_repeated_guest               119390 non-null  int64  \n",
            " 17  previous_cancellations          119390 non-null  int64  \n",
            " 18  previous_bookings_not_canceled  119390 non-null  int64  \n",
            " 19  reserved_room_type              119390 non-null  object \n",
            " 20  assigned_room_type              119390 non-null  object \n",
            " 21  booking_changes                 119390 non-null  int64  \n",
            " 22  deposit_type                    119390 non-null  object \n",
            " 23  agent                           103050 non-null  float64\n",
            " 24  days_in_waiting_list            119390 non-null  int64  \n",
            " 25  customer_type                   119390 non-null  object \n",
            " 26  adr                             119390 non-null  float64\n",
            " 27  required_car_parking_spaces     119390 non-null  int64  \n",
            " 28  total_of_special_requests       119390 non-null  int64  \n",
            " 29  reservation_status              119390 non-null  object \n",
            " 30  reservation_status_date         119390 non-null  object \n",
            " 31  MO_YR                           119390 non-null  object \n",
            " 32  CPI_AVG                         119209 non-null  float64\n",
            " 33  INFLATION                       119209 non-null  float64\n",
            " 34  INFLATION_CHG                   119209 non-null  float64\n",
            " 35  CSMR_SENT                       119209 non-null  float64\n",
            " 36  UNRATE                          119209 non-null  float64\n",
            " 37  INTRSRT                         119209 non-null  float64\n",
            " 38  GDP                             119209 non-null  float64\n",
            " 39  FUEL_PRCS                       119209 non-null  float64\n",
            " 40  CPI_HOTELS                      119209 non-null  float64\n",
            " 41  US_GINI                         119209 non-null  float64\n",
            " 42  DIS_INC                         119209 non-null  float64\n",
            "dtypes: float64(14), int64(16), object(13)\n",
            "memory usage: 39.2+ MB\n"
          ]
        }
      ],
      "source": [
        "hotelBook.info()"
      ]
    },
    {
      "cell_type": "code",
      "execution_count": 9,
      "metadata": {
        "colab": {
          "base_uri": "https://localhost:8080/"
        },
        "id": "G7JrezH4mdNX",
        "outputId": "736cdb88-2210-469a-b0bc-cc71bb276e9c"
      },
      "outputs": [
        {
          "output_type": "execute_result",
          "data": {
            "text/plain": [
              "hotel                                 0\n",
              "is_canceled                           0\n",
              "lead_time                             0\n",
              "arrival_date_year                     0\n",
              "arrival_date_month                    0\n",
              "arrival_date_week_number              0\n",
              "arrival_date_day_of_month             0\n",
              "stays_in_weekend_nights               0\n",
              "stays_in_week_nights                  0\n",
              "adults                                0\n",
              "children                              4\n",
              "babies                                0\n",
              "meal                                  0\n",
              "country                             488\n",
              "market_segment                        0\n",
              "distribution_channel                  0\n",
              "is_repeated_guest                     0\n",
              "previous_cancellations                0\n",
              "previous_bookings_not_canceled        0\n",
              "reserved_room_type                    0\n",
              "assigned_room_type                    0\n",
              "booking_changes                       0\n",
              "deposit_type                          0\n",
              "agent                             16340\n",
              "days_in_waiting_list                  0\n",
              "customer_type                         0\n",
              "adr                                   0\n",
              "required_car_parking_spaces           0\n",
              "total_of_special_requests             0\n",
              "reservation_status                    0\n",
              "reservation_status_date               0\n",
              "MO_YR                                 0\n",
              "CPI_AVG                             181\n",
              "INFLATION                           181\n",
              "INFLATION_CHG                       181\n",
              "CSMR_SENT                           181\n",
              "UNRATE                              181\n",
              "INTRSRT                             181\n",
              "GDP                                 181\n",
              "FUEL_PRCS                           181\n",
              "CPI_HOTELS                          181\n",
              "US_GINI                             181\n",
              "DIS_INC                             181\n",
              "dtype: int64"
            ]
          },
          "metadata": {},
          "execution_count": 9
        }
      ],
      "source": [
        "hotelBook.isnull().sum()\n",
        "\n",
        "# 4 missing values in children.\n",
        "# 488 missing values in country.\n",
        "# 16340 null values in agent.\n",
        "# 181 null values in CPI_AVG, INFLATION, INFLATION_CHG, CSMR_SENT, UNRATE, INTRSRT, GDP, FUEL_PRCS, CPI_HOTELS, US_GINI, DIS_INC."
      ]
    },
    {
      "cell_type": "code",
      "source": [],
      "metadata": {
        "id": "sYjR7TJephBk"
      },
      "execution_count": 9,
      "outputs": []
    },
    {
      "cell_type": "code",
      "execution_count": 10,
      "metadata": {
        "id": "QziMqG3Bmt1D"
      },
      "outputs": [],
      "source": [
        "hotelBook.drop(columns = ['arrival_date_year', 'arrival_date_month', 'arrival_date_week_number', 'arrival_date_day_of_month', 'country', 'reservation_status_date'], inplace=True)"
      ]
    },
    {
      "cell_type": "code",
      "execution_count": 10,
      "metadata": {
        "id": "XCPXqQckmxeF"
      },
      "outputs": [],
      "source": []
    },
    {
      "cell_type": "code",
      "execution_count": 11,
      "metadata": {
        "id": "ONtRcQ6Km0Bo"
      },
      "outputs": [],
      "source": [
        "# Converting object to categories.\n",
        "\n",
        "hotelBook[\"hotel\"] = hotelBook[\"hotel\"].astype(\"category\")\n",
        "hotelBook[\"is_canceled\"] = hotelBook[\"is_canceled\"].astype(\"bool\")\n",
        "hotelBook[\"babies\"] = hotelBook[\"babies\"].astype(\"category\")\n",
        "hotelBook[\"meal\"] = hotelBook[\"meal\"].astype(\"category\")\n",
        "hotelBook[\"market_segment\"] = hotelBook[\"market_segment\"].astype(\"category\")\n",
        "hotelBook[\"distribution_channel\"] = hotelBook[\"distribution_channel\"].astype(\"category\")\n",
        "hotelBook[\"is_repeated_guest\"] = hotelBook[\"is_repeated_guest\"].astype(\"bool\")\n",
        "hotelBook[\"reserved_room_type\"] = hotelBook[\"reserved_room_type\"].astype(\"category\")\n",
        "hotelBook[\"assigned_room_type\"] = hotelBook[\"assigned_room_type\"].astype(\"category\")\n",
        "hotelBook[\"deposit_type\"] = hotelBook[\"deposit_type\"].astype(\"category\")\n",
        "hotelBook[\"customer_type\"] = hotelBook[\"customer_type\"].astype(\"category\")\n",
        "hotelBook[\"reservation_status\"] = hotelBook[\"reservation_status\"].astype(\"category\")\n",
        "hotelBook[\"INFLATION_CHG\"] = hotelBook[\"INFLATION_CHG\"].astype(\"category\")\n",
        "hotelBook[\"INTRSRT\"] = hotelBook[\"INTRSRT\"].astype(\"category\")\n",
        "hotelBook[\"US_GINI\"] = hotelBook[\"US_GINI\"].astype(\"category\")"
      ]
    },
    {
      "cell_type": "code",
      "execution_count": 12,
      "metadata": {
        "id": "BVBldYpem39o"
      },
      "outputs": [],
      "source": [
        "hotelBook['children'] = hotelBook['children'].fillna(value = 0) # Missing value replaced by mode = 0, in children.\n",
        "hotelBook[\"children\"] = hotelBook[\"children\"].astype(\"int\")"
      ]
    },
    {
      "cell_type": "code",
      "execution_count": 13,
      "metadata": {
        "id": "4kLuEJJGm6zJ"
      },
      "outputs": [],
      "source": [
        "index_i = hotelBook[ hotelBook['MO_YR'] == '11-2014'].index\n",
        "hotelBook.drop( index_i, inplace = True)\n",
        "\n",
        "# Only one data record for this date and MO_YR hence can be considered an outlier data point and removed. Record with null value will be removed."
      ]
    },
    {
      "cell_type": "code",
      "execution_count": 14,
      "metadata": {
        "id": "CgbE4ILTm_Cz"
      },
      "outputs": [],
      "source": [
        "index_j = hotelBook[ hotelBook['MO_YR'] == '10-2014'].index\n",
        "hotelBook.drop( index_j, inplace = True)\n",
        "\n",
        "# These records lie at the beginning of the dateline of the dataset hence we cannot extrapolate these values, we have to drop these data records."
      ]
    },
    {
      "cell_type": "code",
      "execution_count": 15,
      "metadata": {
        "id": "evWQzJo3nCSd"
      },
      "outputs": [],
      "source": [
        "hotelBook.drop('MO_YR', axis = 1, inplace = True)\n",
        "#Drop column: MO_YR."
      ]
    },
    {
      "cell_type": "code",
      "execution_count": 16,
      "metadata": {
        "colab": {
          "base_uri": "https://localhost:8080/"
        },
        "id": "cJxqoA2knFL7",
        "outputId": "17c30ab7-6314-41a0-cdbf-6e56d432e4c0"
      },
      "outputs": [
        {
          "output_type": "execute_result",
          "data": {
            "text/plain": [
              "False    75166\n",
              "True     44043\n",
              "Name: is_canceled, dtype: int64"
            ]
          },
          "metadata": {},
          "execution_count": 16
        }
      ],
      "source": [
        "hotelBook['is_canceled'].value_counts()"
      ]
    },
    {
      "cell_type": "code",
      "execution_count": 17,
      "metadata": {
        "colab": {
          "base_uri": "https://localhost:8080/",
          "height": 423
        },
        "id": "Ay71-TYieOfh",
        "outputId": "08806085-5da1-498c-d8f8-25eb0357be87"
      },
      "outputs": [
        {
          "output_type": "execute_result",
          "data": {
            "text/plain": [
              "<Axes: ylabel='is_canceled'>"
            ]
          },
          "metadata": {},
          "execution_count": 17
        },
        {
          "output_type": "display_data",
          "data": {
            "text/plain": [
              "<Figure size 640x480 with 1 Axes>"
            ],
            "image/png": "[encoded data removed]"
          },
          "metadata": {}
        }
      ],
      "source": [
        "# Let's show this with pie chart first approach\n",
        "hotelBook['is_canceled'].value_counts().plot.pie(autopct='%.2f')"
      ]
    },
    {
      "cell_type": "markdown",
      "metadata": {
        "id": "n3aBgSwVnLmg"
      },
      "source": [
        "###Split data into train and test data\n",
        "\n",
        "---"
      ]
    },
    {
      "cell_type": "code",
      "execution_count": 18,
      "metadata": {
        "colab": {
          "base_uri": "https://localhost:8080/"
        },
        "id": "T0bR_qA4nFcJ",
        "outputId": "ceef48db-ed25-482c-e1a4-8f911edd88b0"
      },
      "outputs": [
        {
          "output_type": "stream",
          "name": "stdout",
          "text": [
            "(83446, 35) (35763, 35)\n"
          ]
        }
      ],
      "source": [
        "# Separate the independent attributes i.e. every column except is_canceled variable\n",
        "\n",
        "# Store the target column (is_canceled) into Y array\n",
        "X = hotelBook.loc[:, hotelBook.columns != 'is_canceled']  # Independent variables\n",
        "y = hotelBook.loc[:, hotelBook.columns == 'is_canceled']  # Target variable\n",
        "\n",
        "# Splitting data into training and test set, stratified by target variable distribution.\n",
        "X_train, X_test, y_train, y_test = train_test_split(X, y, test_size=0.3, random_state=7,stratify=y)\n",
        "print(X_train.shape, X_test.shape)\n"
      ]
    },
    {
      "cell_type": "markdown",
      "metadata": {
        "id": "pAeHKUCznVuB"
      },
      "source": [
        "###Imputing Missing Values\n",
        "\n",
        "---"
      ]
    },
    {
      "cell_type": "code",
      "source": [],
      "metadata": {
        "id": "ULmyzEFFqwI_"
      },
      "execution_count": 18,
      "outputs": []
    },
    {
      "cell_type": "code",
      "execution_count": 19,
      "metadata": {
        "id": "F79gCiT6nTxu"
      },
      "outputs": [],
      "source": [
        "imputer = KNNImputer(n_neighbors=5)\n",
        "reqd_col_for_impute = ['agent']"
      ]
    },
    {
      "cell_type": "code",
      "execution_count": null,
      "metadata": {
        "id": "jder-T-PncVN"
      },
      "outputs": [],
      "source": [
        "# Fit and transform the train data\n",
        "X_train[reqd_col_for_impute]=imputer.fit_transform(X_train[reqd_col_for_impute])\n",
        "\n",
        "# Transform the test data\n",
        "X_test[reqd_col_for_impute]=imputer.transform(X_test[reqd_col_for_impute])"
      ]
    },
    {
      "cell_type": "code",
      "execution_count": null,
      "metadata": {
        "id": "g7oy2Jl8nwOV"
      },
      "outputs": [],
      "source": [
        "# Checking that no column has missing values in train or test sets\n",
        "print(X_train.isna().sum())\n",
        "print('-'*30)\n",
        "print(X_test.isna().sum())"
      ]
    },
    {
      "cell_type": "code",
      "execution_count": null,
      "metadata": {
        "id": "YNZQ4whSnzKA"
      },
      "outputs": [],
      "source": [
        "X_train.nunique()\n",
        "# hotel, is_canceled, children, babies, meal, market_segment, distribution channel, is_repeated_guest, reserved_room_type, assigned_room_type, deposit_type, customer_type, required_car_parking_spaces, total_of_special_requests, reservation_status, INFLATION_CHG, INTRSRT, US_GINI are categorical.(Taking <6 values)\n",
        "# lead_time, stays_in_weekend_nights, stays_in_week_nights, adults, previous_cancellations, previous_bookings_not_canceled, booking changes, agent, days_in_waiting_list, adr, reservation_status_date, CPI_AVG, INFLATION, CSMR_SENT, UNRATE, GDP, FUEL_PRCS, CPI_HOTELS, DIS_INC are numeric.(int or float)"
      ]
    },
    {
      "cell_type": "code",
      "execution_count": null,
      "metadata": {
        "id": "aOMAMdomn2dj"
      },
      "outputs": [],
      "source": [
        "cols = X_train.select_dtypes(include=['object','category'])\n",
        "for i in cols.columns:\n",
        "    print(X_train[i].value_counts())\n",
        "    print('*'*30)"
      ]
    },
    {
      "cell_type": "code",
      "execution_count": null,
      "metadata": {
        "id": "PP6jb9Pzn6kE"
      },
      "outputs": [],
      "source": [
        "X_train.info()"
      ]
    },
    {
      "cell_type": "code",
      "execution_count": null,
      "metadata": {
        "id": "FpBiQfo4n_gL"
      },
      "outputs": [],
      "source": [
        "X_train.describe().T"
      ]
    },
    {
      "cell_type": "code",
      "execution_count": null,
      "metadata": {
        "id": "pnMiw4D7oA7o"
      },
      "outputs": [],
      "source": [
        "X_train.describe(include=['category','bool']).T"
      ]
    },
    {
      "cell_type": "code",
      "execution_count": null,
      "metadata": {
        "id": "FSDHB1QroDlA"
      },
      "outputs": [],
      "source": [
        "y_train.value_counts()"
      ]
    },
    {
      "cell_type": "markdown",
      "source": [
        "## Univariate Analysis"
      ],
      "metadata": {
        "id": "vA3O78TDPCAY"
      }
    },
    {
      "cell_type": "markdown",
      "source": [
        "## Detecting Outliers and handling"
      ],
      "metadata": {
        "id": "oshhptGcJD0Z"
      }
    },
    {
      "cell_type": "code",
      "execution_count": null,
      "metadata": {
        "id": "4UJc6br8sLmb"
      },
      "outputs": [],
      "source": [
        "# While doing uni-variate analysis of numerical variables we want to study their central tendency\n",
        "# and dispersion.\n",
        "# Let us write a function that will help us create boxplot and histogram for any input numerical\n",
        "# variable.\n",
        "# This function takes the numerical column as the input and returns the boxplots\n",
        "# and histograms for the variable.\n",
        "# Let us see if this help us write faster and cleaner code.\n",
        "def histogram_boxplot(feature, figsize=(15,10), bins = None):\n",
        "    \"\"\" Boxplot and histogram combined\n",
        "    feature: 1-d feature array\n",
        "    figsize: size of fig (default (9,8))\n",
        "    bins: number of bins (default None / auto)\n",
        "    \"\"\"\n",
        "    f2, (ax_box2, ax_hist2) = plt.subplots(nrows = 2, # Number of rows of the subplot grid= 2\n",
        "                                           sharex = True, # x-axis will be shared among all subplots\n",
        "                                           gridspec_kw = {\"height_ratios\": (.25, .75)},\n",
        "                                           figsize = figsize\n",
        "                                           ) # creating the 2 subplots\n",
        "    sns.boxplot(x = feature, ax=ax_box2, showmeans = True, color = 'violet') # boxplot will be created and a triangle will indicate the mean value of the column\n",
        "    sns.distplot(x =feature, kde=F, ax=ax_hist2, bins=bins,palette=\"winter\") if bins else sns.distplot(feature, kde=False, ax=ax_hist2) # For histogram\n",
        "    ax_hist2.axvline(np.mean(feature), color='green', linestyle='--') # Add mean to the histogram\n",
        "    ax_hist2.axvline(np.median(feature), color='black', linestyle='-') # Add median to the histogram"
      ]
    },
    {
      "cell_type": "code",
      "execution_count": null,
      "metadata": {
        "id": "Uyu2NwJIsPdN"
      },
      "outputs": [],
      "source": [
        "# distplot for continous columns\n",
        "for i in ['lead_time','stays_in_weekend_nights','stays_in_week_nights','adults', 'children', 'previous_cancellations', 'previous_bookings_not_canceled', 'booking_changes', 'agent', 'days_in_waiting_list', 'adr', 'required_car_parking_spaces', 'total_of_special_requests','CPI_AVG','INFLATION','CSMR_SENT','UNRATE','GDP','FUEL_PRCS','CPI_HOTELS','DIS_INC']:\n",
        "    histogram_boxplot(X_train[i])\n",
        "    plt.show()"
      ]
    },
    {
      "cell_type": "code",
      "source": [
        "for i in ['lead_time','stays_in_weekend_nights','stays_in_week_nights','adults', 'children', 'previous_cancellations', 'previous_bookings_not_canceled', 'booking_changes', 'agent', 'days_in_waiting_list', 'adr', 'required_car_parking_spaces', 'total_of_special_requests','UNRATE','FUEL_PRCS','CPI_HOTELS']:\n",
        "  upper_limit = X_train[i].quantile(0.99)\n",
        "  lower_limit = X_train[i].quantile(0.01)\n",
        "  X_train[i] = np.where(X_train[i] >= upper_limit,\n",
        "        upper_limit,\n",
        "        np.where(X_train[i]<= lower_limit,\n",
        "        lower_limit,\n",
        "        X_train[i]))"
      ],
      "metadata": {
        "id": "-2faXRw6B4qQ"
      },
      "execution_count": null,
      "outputs": []
    },
    {
      "cell_type": "markdown",
      "source": [
        "Apply Capping(Winsorization) to deal with outliers,1% capping.\n",
        "\n",
        "Reduced extent of outliers, although they probably still skew the data."
      ],
      "metadata": {
        "id": "HzF1BRHDD0ME"
      }
    },
    {
      "cell_type": "code",
      "execution_count": null,
      "metadata": {
        "id": "7U18uqtPsRNg"
      },
      "outputs": [],
      "source": [
        "# Function to create barplots that indicate percentage for each category.\n",
        "\n",
        "def perc_on_bar(plot, feature):\n",
        "    '''\n",
        "    plot\n",
        "    feature: categorical feature\n",
        "    the function won't work if a column is passed in hue parameter\n",
        "    '''\n",
        "    total = len(feature) # length of the column\n",
        "    for p in ax.patches:\n",
        "        percentage = '{:.1f}%'.format(100 * p.get_height()/total) # percentage of each class of the category\n",
        "        x = p.get_x() + p.get_width() / 2 - 0.05 # width of the plot\n",
        "        y = p.get_y() + p.get_height()           # hieght of the plot\n",
        "        ax.annotate(percentage, (x, y), size = 12) # annotate the percantage\n",
        "    plt.show() # show the plot"
      ]
    },
    {
      "cell_type": "code",
      "execution_count": null,
      "metadata": {
        "id": "nucf9mzMscZT"
      },
      "outputs": [],
      "source": [
        "# Bar plots for categorical values\n",
        "for i in ['hotel', 'babies','meal','market_segment','distribution_channel','is_repeated_guest','reserved_room_type', 'assigned_room_type', 'deposit_type','customer_type', 'reservation_status', 'INFLATION_CHG', 'INTRSRT', 'US_GINI']:\n",
        "    plt.figure(figsize=(15,5))\n",
        "    ax = sns.countplot(x = X_train[i],palette='winter')\n",
        "    perc_on_bar(ax,X_train[i])\n",
        "    plt.show()"
      ]
    },
    {
      "cell_type": "markdown",
      "source": [
        "## EDA"
      ],
      "metadata": {
        "id": "UpT-bt60PStb"
      }
    },
    {
      "cell_type": "code",
      "execution_count": null,
      "metadata": {
        "id": "7JkaL5w0onmQ"
      },
      "outputs": [],
      "source": [
        "X_train.stays_in_weekend_nights.value_counts()\n",
        "# Mostly 0, 1, 2."
      ]
    },
    {
      "cell_type": "code",
      "execution_count": null,
      "metadata": {
        "id": "BtDb6IeIosme"
      },
      "outputs": [],
      "source": [
        "X_train.adults.value_counts()\n",
        "# Mostly 1, 2, 3. Can consider all others as outliers."
      ]
    },
    {
      "cell_type": "code",
      "execution_count": null,
      "metadata": {
        "id": "w_Q7hEh5ou5D"
      },
      "outputs": [],
      "source": [
        "X_train.children.value_counts()\n",
        "# Mostly 0, 1, 2. 92% values are 0. Convert float to integer. Consider all others as outliers.\n",
        "# Drop the column."
      ]
    },
    {
      "cell_type": "code",
      "execution_count": null,
      "metadata": {
        "id": "-waw9fn_oxoa"
      },
      "outputs": [],
      "source": [
        "X_train.babies.value_counts()\n",
        "# Mostly 0. Column can be dropped."
      ]
    },
    {
      "cell_type": "code",
      "execution_count": null,
      "metadata": {
        "id": "a5gb-Xy4oz2P"
      },
      "outputs": [],
      "source": [
        "X_train.meal.value_counts()\n",
        "# FB less than 1% valuecount. More than 77% BB."
      ]
    },
    {
      "cell_type": "code",
      "execution_count": null,
      "metadata": {
        "id": "nEMCLS5Co2pY"
      },
      "outputs": [],
      "source": [
        "X_train.market_segment.value_counts()\n",
        "# Complementary, Aviation and Undefined are outliers."
      ]
    },
    {
      "cell_type": "code",
      "execution_count": null,
      "metadata": {
        "id": "dO5JZDPzo5S6"
      },
      "outputs": [],
      "source": [
        "X_train.distribution_channel.value_counts()\n",
        "# 88% is TA/TO. GDS, Undefined is less than 1%."
      ]
    },
    {
      "cell_type": "code",
      "execution_count": null,
      "metadata": {
        "id": "VKe2R9HAo7oY"
      },
      "outputs": [],
      "source": [
        "X_train.is_repeated_guest.value_counts()\n",
        "# Drop this imbalanced column."
      ]
    },
    {
      "cell_type": "code",
      "execution_count": null,
      "metadata": {
        "id": "33-a46SDo_qq"
      },
      "outputs": [],
      "source": [
        "X_train.previous_cancellations.value_counts()\n",
        "# 94.5% data is 0, highly imbalanced.\n",
        "#Column can be dropped."
      ]
    },
    {
      "cell_type": "code",
      "execution_count": null,
      "metadata": {
        "id": "Y0j-MuBKpCMd"
      },
      "outputs": [],
      "source": [
        "X_train.previous_bookings_not_canceled.value_counts()\n",
        "# 97% of data is 0. Highly imbalanced.\n",
        "# Drop the column."
      ]
    },
    {
      "cell_type": "code",
      "execution_count": null,
      "metadata": {
        "id": "KDNoAq7ypFW5"
      },
      "outputs": [],
      "source": [
        "X_train.reserved_room_type.value_counts()\n",
        "# A and D are the most common values.\n",
        "# Drop the column, as most guests change room type on check in and availability."
      ]
    },
    {
      "cell_type": "code",
      "execution_count": null,
      "metadata": {
        "id": "qJOaVoLRpHiW"
      },
      "outputs": [],
      "source": [
        "X_train.assigned_room_type.value_counts()\n",
        "# Data leakage as assigned changes from reserved only on check in\n",
        "\n",
        "# Drop column: assigned_room_type."
      ]
    },
    {
      "cell_type": "code",
      "execution_count": null,
      "metadata": {
        "id": "feNVlCLjpJ5p"
      },
      "outputs": [],
      "source": [
        "X_train.days_in_waiting_list.value_counts()\n",
        "# Majority value is 0. Drop the column."
      ]
    },
    {
      "cell_type": "code",
      "execution_count": null,
      "metadata": {
        "id": "CKZc0LxUpOUW"
      },
      "outputs": [],
      "source": [
        "X_train.required_car_parking_spaces.value_counts()\n",
        "# 93% values are 0, Drop the column."
      ]
    },
    {
      "cell_type": "code",
      "execution_count": null,
      "metadata": {
        "id": "AO9OjKzPpRiO"
      },
      "outputs": [],
      "source": [
        "X_train.total_of_special_requests.value_counts()"
      ]
    },
    {
      "cell_type": "code",
      "execution_count": null,
      "metadata": {
        "id": "LJTj7xAnpW5G"
      },
      "outputs": [],
      "source": [
        "X_train.reservation_status.value_counts()\n",
        "# Drop the column. Cannot be used due to risk of future leakage"
      ]
    },
    {
      "cell_type": "code",
      "execution_count": null,
      "metadata": {
        "id": "0-btMfdCpakx"
      },
      "outputs": [],
      "source": [
        "X_train.CPI_AVG.value_counts()"
      ]
    },
    {
      "cell_type": "code",
      "execution_count": null,
      "metadata": {
        "id": "bPZmGKRHpdKT"
      },
      "outputs": [],
      "source": [
        "X_train.INFLATION.value_counts()"
      ]
    },
    {
      "cell_type": "code",
      "execution_count": null,
      "metadata": {
        "id": "WqbdShZEpfYO"
      },
      "outputs": [],
      "source": [
        "X_train.INFLATION_CHG.value_counts()"
      ]
    },
    {
      "cell_type": "code",
      "execution_count": null,
      "metadata": {
        "id": "idJKInlqph8g"
      },
      "outputs": [],
      "source": [
        "X_train.CSMR_SENT.value_counts()"
      ]
    },
    {
      "cell_type": "code",
      "execution_count": null,
      "metadata": {
        "id": "8J0CCXr4pkFM"
      },
      "outputs": [],
      "source": [
        "X_train.UNRATE.value_counts()"
      ]
    },
    {
      "cell_type": "code",
      "execution_count": null,
      "metadata": {
        "id": "ruR_hDKYpmTd"
      },
      "outputs": [],
      "source": [
        "X_train.INTRSRT.value_counts()"
      ]
    },
    {
      "cell_type": "code",
      "execution_count": null,
      "metadata": {
        "id": "liTAVvUSppZh"
      },
      "outputs": [],
      "source": [
        "X_train.GDP.value_counts()"
      ]
    },
    {
      "cell_type": "code",
      "execution_count": null,
      "metadata": {
        "id": "3LVgj_Hmpr7-"
      },
      "outputs": [],
      "source": [
        "X_train.FUEL_PRCS.value_counts()"
      ]
    },
    {
      "cell_type": "code",
      "execution_count": null,
      "metadata": {
        "id": "3BQJ0nl5pvwH"
      },
      "outputs": [],
      "source": [
        "X_train.CPI_HOTELS.value_counts()"
      ]
    },
    {
      "cell_type": "code",
      "execution_count": null,
      "metadata": {
        "id": "lwpciMK9px92"
      },
      "outputs": [],
      "source": [
        "X_train.US_GINI.value_counts()"
      ]
    },
    {
      "cell_type": "code",
      "execution_count": null,
      "metadata": {
        "id": "m6irCST4p2as"
      },
      "outputs": [],
      "source": [
        "X_train.DIS_INC.value_counts()"
      ]
    },
    {
      "cell_type": "code",
      "execution_count": null,
      "metadata": {
        "id": "YFGVU13uqJ9J"
      },
      "outputs": [],
      "source": [
        "X_train.drop(columns=['reservation_status', 'required_car_parking_spaces', 'days_in_waiting_list', 'children', 'babies', 'is_repeated_guest', 'previous_cancellations', 'previous_bookings_not_canceled', 'reserved_room_type','assigned_room_type'], inplace = True)\n",
        "# Drop columns in training data: required_car_parking_spaces, days_in_waiting_list, children, babies, is_repeated_guest, previous_cancellations, previous_bookings_not_canceled, assigned_room_type. Reflect the changes in test.\n",
        "\n",
        "\n",
        "X_test.drop(columns=[ 'reservation_status', 'required_car_parking_spaces', 'days_in_waiting_list', 'children', 'babies', 'is_repeated_guest', 'previous_cancellations', 'previous_bookings_not_canceled', 'reserved_room_type', 'assigned_room_type'], inplace = True)"
      ]
    },
    {
      "cell_type": "code",
      "execution_count": null,
      "metadata": {
        "id": "-8elBXl1qm2u"
      },
      "outputs": [],
      "source": [
        "X_train.info()"
      ]
    },
    {
      "cell_type": "markdown",
      "source": [
        "## Correlation between independent variables."
      ],
      "metadata": {
        "id": "j85LSNbPP48D"
      }
    },
    {
      "cell_type": "code",
      "execution_count": null,
      "metadata": {
        "id": "FewejCsHwIvQ"
      },
      "outputs": [],
      "source": [
        "plt.figure(figsize=(18,10))\n",
        "sns.heatmap(X_train.corr(),annot=True)\n",
        "plt.show()"
      ]
    },
    {
      "cell_type": "code",
      "execution_count": null,
      "metadata": {
        "id": "sUwjtcas-jvb"
      },
      "outputs": [],
      "source": [
        "corr = abs(X_train.corr()) # correlation matrix\n",
        "lower_triangle = np.tril(corr, k = -1)  # select only the lower triangle of the correlation matrix\n",
        "mask = lower_triangle == 0  # to mask the upper triangle in the following heatmap\n",
        "\n",
        "plt.figure(figsize = (12,7))  # setting the figure size\n",
        "sns.set_style(style = 'white')  # Setting it to white so that we do not see the grid lines\n",
        "sns.heatmap(lower_triangle, center=0.5, cmap= 'Blues', annot= True, xticklabels = corr.index, yticklabels = corr.columns,\n",
        "            cbar= False, linewidths= 1, mask = mask)   # Heatmap\n",
        "plt.xticks(rotation = 50)   # Aesthetics\n",
        "plt.yticks(rotation = 20)   # Aesthetics\n",
        "plt.show()"
      ]
    },
    {
      "cell_type": "markdown",
      "source": [
        "Dropping highly correlated variables."
      ],
      "metadata": {
        "id": "FD42gao-QFdh"
      }
    },
    {
      "cell_type": "code",
      "execution_count": null,
      "metadata": {
        "id": "RWdTmGDbBHOz"
      },
      "outputs": [],
      "source": [
        "# CPI_AVG has high correlation with UNRATE(-0.84), GDP(0.98), DIS_INC(0.88), hence these variables can be dropped, while keeping CPI_AVG.\n",
        "\n",
        "X_train.drop(columns=['UNRATE', 'GDP', 'DIS_INC'], inplace = True)\n",
        "# Drop columns in training data: required_car_parking_spaces, days_in_waiting_list, children, babies, is_repeated_guest, previous_cancellations, previous_bookings_not_canceled, assigned_room_type. Reflect the changes in test.\n",
        "\n",
        "\n",
        "X_test.drop(columns=['UNRATE', 'GDP', 'DIS_INC'], inplace = True)"
      ]
    },
    {
      "cell_type": "code",
      "source": [
        "X_train.info()"
      ],
      "metadata": {
        "id": "hnMRphNouLY4"
      },
      "execution_count": null,
      "outputs": []
    },
    {
      "cell_type": "markdown",
      "source": [
        "Split categorical variables into dummy variables."
      ],
      "metadata": {
        "id": "hiCLkBH8QNUS"
      }
    },
    {
      "cell_type": "code",
      "execution_count": null,
      "metadata": {
        "id": "eg-DL1roqNDP"
      },
      "outputs": [],
      "source": [
        "X_train = pd.get_dummies(X_train,drop_first=True)\n",
        "X_test = pd.get_dummies(X_test,drop_first=True)\n",
        "print(X_train.shape, X_test.shape)"
      ]
    },
    {
      "cell_type": "markdown",
      "metadata": {
        "id": "Txz72me6XuTY"
      },
      "source": [
        "## Evaluating models between Logistic Regression, Decision Tree, Random Forest, AdaBoost, XGBoost using pipeline, with scoring criteria as precision and training time."
      ]
    },
    {
      "cell_type": "code",
      "execution_count": null,
      "metadata": {
        "id": "vl7VExYbqQHT"
      },
      "outputs": [],
      "source": [
        "models = []  # Empty list to store all the models\n",
        "\n",
        "# Appending pipelines for each model into the list\n",
        "models.append(\n",
        "    (\n",
        "        \"LR\",\n",
        "        Pipeline(\n",
        "            steps=[\n",
        "                (\"scaler\", StandardScaler()),\n",
        "                (\"log_reg\", LogisticRegression(random_state=1)),\n",
        "            ]\n",
        "        ),\n",
        "    )\n",
        ")\n",
        "models.append(\n",
        "    (\n",
        "        \"DT\",\n",
        "        Pipeline(\n",
        "            steps=[\n",
        "                (\"scaler\", StandardScaler()),\n",
        "                (\"dt\", DecisionTreeClassifier(random_state=1)),\n",
        "            ]\n",
        "        ),\n",
        "    )\n",
        ")\n",
        "models.append(\n",
        "    (\n",
        "        \"RF\",\n",
        "        Pipeline(\n",
        "            steps=[\n",
        "                (\"scaler\", StandardScaler()),\n",
        "                (\"random_forest\", RandomForestClassifier(random_state=1)),\n",
        "            ]\n",
        "        ),\n",
        "    )\n",
        ")\n",
        "models.append(\n",
        "    (\n",
        "        \"ADB\",\n",
        "        Pipeline(\n",
        "            steps=[\n",
        "                (\"scaler\", StandardScaler()),\n",
        "                (\"adaboost\", AdaBoostClassifier(random_state=1)),\n",
        "            ]\n",
        "        ),\n",
        "    )\n",
        ")\n",
        "models.append(\n",
        "    (\n",
        "        \"XGB\",\n",
        "        Pipeline(\n",
        "            steps=[\n",
        "                (\"scaler\", StandardScaler()),\n",
        "                (\"xgboost\", XGBClassifier(random_state=1)),\n",
        "            ]\n",
        "        ),\n",
        "    )\n",
        ")\n"
      ]
    },
    {
      "cell_type": "code",
      "execution_count": null,
      "metadata": {
        "id": "jhyVCgzJtq24"
      },
      "outputs": [],
      "source": [
        "results = []  # Empty list to store all model's CV scores\n",
        "names = []  # Empty list to store name of the models"
      ]
    },
    {
      "cell_type": "code",
      "execution_count": null,
      "metadata": {
        "id": "_o4Y9GpOt9hL"
      },
      "outputs": [],
      "source": [
        "# Loop through all models to get the mean cross validated score\n",
        "for name, model in models:\n",
        "    scoring = \"precision\"\n",
        "    kfold = StratifiedKFold(\n",
        "        n_splits=5, shuffle=True, random_state=1\n",
        "    )  # Setting number of splits equal to 5\n",
        "    t0 = time.time()\n",
        "    cv_result = cross_val_score(\n",
        "        estimator=model, X=X_train, y=y_train, scoring=scoring, cv=kfold\n",
        "    )\n",
        "    print(\"Training time\", time.time()-t0)\n",
        "    results.append(cv_result)\n",
        "    names.append(name)\n",
        "    print(\"{}: {}\".format(name, cv_result.mean() * 100))\n",
        "    print(\"\\n\")"
      ]
    },
    {
      "cell_type": "markdown",
      "source": [
        "Best Precision is obtained with Random Forest but is the slowest.\n",
        "\n",
        "Second best precision is obtained with XGBoost, training time is much less than Random Forest."
      ],
      "metadata": {
        "id": "CLSbkqCSRPjw"
      }
    },
    {
      "cell_type": "code",
      "execution_count": null,
      "metadata": {
        "id": "osv3N3QTYfko"
      },
      "outputs": [],
      "source": [
        "# Plotting boxplots for CV scores of all models defined above\n",
        "fig = plt.figure()\n",
        "\n",
        "fig.suptitle(\"Algorithm Comparison\")\n",
        "ax = fig.add_subplot(111)\n",
        "\n",
        "plt.boxplot(results)\n",
        "ax.set_xticklabels(names)\n",
        "\n",
        "plt.show()"
      ]
    },
    {
      "cell_type": "markdown",
      "source": [
        "Plotted Model score vs Precision.\n",
        "\n",
        "We choose to proceed with Random Forest and XGBoost Algorithm, and use hyperparameter tuning to improve performance of the model."
      ],
      "metadata": {
        "id": "a1bI6Ex9R2xi"
      }
    },
    {
      "cell_type": "code",
      "execution_count": null,
      "metadata": {
        "id": "Ionw6b_yc8Zl"
      },
      "outputs": [],
      "source": [
        "## Function to get confusion matrix in a proper format\n",
        "def draw_cm( actual, predicted ):\n",
        "    cm = confusion_matrix( actual, predicted)\n",
        "\n",
        "    df_cm = pd.DataFrame(cm, index = [i for i in [\"Actual - No\",\"Actual - Yes\"]],\n",
        "                  columns = [i for i in ['Predicted - No','Predicted - Yes']])\n",
        "    group_counts = [\"{0:0.0f}\".format(value) for value in\n",
        "                cm.flatten()]\n",
        "    group_percentages = [\"{0:.2%}\".format(value) for value in\n",
        "                         cm.flatten()/np.sum(cm)]\n",
        "    labels = [f\"{v1}\\n{v2}\" for v1, v2 in\n",
        "              zip(group_counts,group_percentages)]\n",
        "    labels = np.asarray(labels).reshape(2,2)\n",
        "    plt.figure(figsize = (10,7))\n",
        "    sns.heatmap(df_cm, annot=labels,fmt='')\n",
        "    plt.title('Confusion Matrix')\n",
        "    plt.ylabel('True label')\n",
        "    plt.xlabel('Predicted label')\n",
        "    plt.show()"
      ]
    },
    {
      "cell_type": "markdown",
      "metadata": {
        "id": "IMV2ECv2ZCpN"
      },
      "source": [
        "* We can see that Random Forest Algorithm is giving the best precision score followed by XGBoost Algorithm.\n",
        "* Random Forest performance is consistent, XGBoost performance is mostly consistent with just one outlier.\n",
        "* We will tune best two models i.e. random forest and xgboost and see if the performance improves."
      ]
    },
    {
      "cell_type": "markdown",
      "metadata": {
        "id": "NqlcYU_Mgkhg"
      },
      "source": [
        "Random Forest"
      ]
    },
    {
      "cell_type": "code",
      "execution_count": null,
      "metadata": {
        "id": "oYh75KODpvUF"
      },
      "outputs": [],
      "source": [
        "# Parameter grid to pass for Random forest Algorithm for tuning.\n",
        "param_grid = {\n",
        "    'n_estimators': [10,25, 50],\n",
        "    'max_features': ['sqrt', 'log2', None],\n",
        "    'max_depth': [3, 6, 9],\n",
        "    'max_leaf_nodes': [3, 6, 9],\n",
        "}"
      ]
    },
    {
      "cell_type": "markdown",
      "source": [
        "Building a **Random Forest Model** with hyperparameter tuning using **RandomizedSearch CV**"
      ],
      "metadata": {
        "id": "f_bb5D1jJC3L"
      }
    },
    {
      "cell_type": "code",
      "source": [
        "%%time\n",
        "# Search for best paramters in the range for RandomForestClassifier\n",
        "\n",
        "random_search = RandomizedSearchCV(RandomForestClassifier(), param_grid)\n",
        "random_search.fit(X_train, y_train)\n",
        "print(random_search.best_estimator_)"
      ],
      "metadata": {
        "id": "NVi5luWGIOuy"
      },
      "execution_count": null,
      "outputs": []
    },
    {
      "cell_type": "code",
      "source": [
        "%%time\n",
        "rf_model = RandomForestClassifier( max_depth=6, max_features=None, max_leaf_nodes=9, n_estimators=25, class_weight='balanced') # Model with best parameters chosen\n",
        "rf_model.fit(X_train, y_train) # Training of model"
      ],
      "metadata": {
        "id": "KuYejWdlKqfJ"
      },
      "execution_count": null,
      "outputs": []
    },
    {
      "cell_type": "code",
      "source": [
        "# Predict the mode\n",
        "y_predict = rf_model.predict(X_test)\n",
        "\n",
        "print(\"Training accuracy\",rf_model.score(X_train,y_train))  #  training accuracy for data in xtrain\n",
        "print()\n",
        "print(\"Testing accuracy\",rf_model.score(X_test, y_test))   # testing accuracy for data in xtest"
      ],
      "metadata": {
        "id": "3_WRStiXYG3K"
      },
      "execution_count": null,
      "outputs": []
    },
    {
      "cell_type": "code",
      "source": [
        "# Plot confusion matrix for  Random Forest Algorithm\n",
        "\n",
        "draw_cm(y_test,y_predict)"
      ],
      "metadata": {
        "id": "awx-za_-cFfx"
      },
      "execution_count": null,
      "outputs": []
    },
    {
      "cell_type": "code",
      "source": [
        "# Precision for Ranfom Forest\n",
        "\n",
        "precision_score(y_test,y_predict)"
      ],
      "metadata": {
        "id": "XurN530Scfrn"
      },
      "execution_count": null,
      "outputs": []
    },
    {
      "cell_type": "markdown",
      "source": [
        "Building a **XGBoost Model** with hyperparameter tuning using **RandomizedSearch CV**"
      ],
      "metadata": {
        "id": "OhiF8MzAcdCJ"
      }
    },
    {
      "cell_type": "code",
      "source": [
        "param_grid = {\n",
        " 'max_depth':range(3,10,2),\n",
        " 'min_child_weight':range(1,6,2)\n",
        "}"
      ],
      "metadata": {
        "id": "8j3aMM-hgcu0"
      },
      "execution_count": null,
      "outputs": []
    },
    {
      "cell_type": "code",
      "source": [
        "estimate = float( sum(y_train.values == 0) / sum(y_train.values == 1))\n",
        "print('Estimate: %.3f' % estimate)"
      ],
      "metadata": {
        "id": "aovwTnBtQp7z"
      },
      "execution_count": null,
      "outputs": []
    },
    {
      "cell_type": "code",
      "source": [
        "%%time\n",
        "# Search for best paramters in the range for RandomForestClassifier\n",
        "xgb_search = RandomizedSearchCV(XGBClassifier(),\n",
        "                                   param_grid)\n",
        "xgb_search.fit(X_train, y_train)\n",
        "print(xgb_search.best_estimator_)"
      ],
      "metadata": {
        "id": "3zGzSwm0cdx1"
      },
      "execution_count": null,
      "outputs": []
    },
    {
      "cell_type": "code",
      "source": [
        "%%time\n",
        "\n",
        "xgb_model = XGBClassifier(max_depth=9, min_child_weight=5, scale_pos_weight = estimate) # Model with best parameters chosen\n",
        "xgb_model.fit(X_train, y_train) # Training the model"
      ],
      "metadata": {
        "id": "Owd8rXK_cd05"
      },
      "execution_count": null,
      "outputs": []
    },
    {
      "cell_type": "code",
      "source": [
        "# predict the mode\n",
        "y_predict = xgb_model.predict(X_test)\n",
        "\n",
        "print(\"Training accuracy\",xgb_model.score(X_train,y_train))  #  training accuracy for data in xtrain\n",
        "print()\n",
        "print(\"Testing accuracy\",xgb_model.score(X_test, y_test))   # testing accuracy for data in xtest"
      ],
      "metadata": {
        "id": "r53RV_D2cd4Q"
      },
      "execution_count": null,
      "outputs": []
    },
    {
      "cell_type": "code",
      "source": [
        "# Plot confusion matrix for XGBoost Algorithm-\n",
        "\n",
        "draw_cm(y_test,y_predict)"
      ],
      "metadata": {
        "id": "GujYQGM6cd7n"
      },
      "execution_count": null,
      "outputs": []
    },
    {
      "cell_type": "code",
      "source": [
        "# Precision score for XGBoost\n",
        "\n",
        "precision_score(y_test,y_predict)"
      ],
      "metadata": {
        "id": "CktI6Wgecd-P"
      },
      "execution_count": null,
      "outputs": []
    },
    {
      "cell_type": "code",
      "source": [],
      "metadata": {
        "id": "EjfeyIYIbIc6"
      },
      "execution_count": null,
      "outputs": []
    }
  ],
  "metadata": {
    "colab": {
      "provenance": [],
      "authorship_tag": "ABX9TyOc2S3jomfYC5pPrgb4GvTe",
      "include_colab_link": true
    },
    "kernelspec": {
      "display_name": "Python 3",
      "name": "python3"
    },
    "language_info": {
      "name": "python"
    }
  },
  "nbformat": 4,
  "nbformat_minor": 0
}